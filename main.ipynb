{
 "cells": [
  {
   "cell_type": "code",
   "execution_count": null,
   "metadata": {},
   "outputs": [],
   "source": [
    "import pandas as pd\n",
    "import requests\n",
    "from datetime import date"
   ]
  },
  {
   "cell_type": "code",
   "execution_count": null,
   "metadata": {},
   "outputs": [],
   "source": [
    "base_url = 'https://pdp-api.public.prd.beautybay.com/product/beauty-bay-'\n",
    "product_name = 'fiery-20-42-colour-palette'\n",
    "variant = ''\n",
    "\n",
    "url = f'{base_url}{product_name}?variant={variant}'"
   ]
  },
  {
   "cell_type": "code",
   "execution_count": null,
   "metadata": {},
   "outputs": [],
   "source": [
    "my_df = pd.DataFrame()\n",
    "\n",
    "def execute_programm(url, my_df):\n",
    "    product = requests.get(url).json()\n",
    "    eur_price = product['prices'][2]['price']\n",
    "    my_df['date'] = str(date.today())\n",
    "    my_df['price'] = eur_price\n",
    "\n",
    "    my_df.to_csv('output.csv')\n",
    "\n",
    "    new_row = pd.DataFrame({'date': [str(date.today())], 'price': [eur_price]})\n",
    "    my_df = pd.concat([my_df, new_row], ignore_index=True)\n",
    "\n",
    "    if eur_price == my_df['price'].min():\n",
    "        print(\"El precio actual es el más bajo registrado.\")\n",
    "\n",
    "    return my_df\n",
    "\n",
    "my_df = execute_programm(url, my_df)\n"
   ]
  }
 ],
 "metadata": {
  "language_info": {
   "name": "python"
  }
 },
 "nbformat": 4,
 "nbformat_minor": 2
}
